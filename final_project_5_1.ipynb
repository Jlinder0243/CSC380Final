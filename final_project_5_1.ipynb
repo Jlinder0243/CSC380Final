{
  "cells": [
    {
      "cell_type": "markdown",
      "id": "70cb06b4-f58d-46e0-8f71-b616bcc0512d",
      "metadata": {
        "id": "70cb06b4-f58d-46e0-8f71-b616bcc0512d"
      },
      "source": [
        "# Final Project\n",
        "\n",
        "**Group HOMEWORK**. This final project can be collaborative. The maximum members of a group is 2. You can also work by yourself. Please respect the academic integrity. **Remember: if you get caught on cheating, you get F.**\n",
        "\n",
        "## A Introduction to the competition\n",
        "\n",
        "<img src=\"news-sexisme-EN.jpg\" alt=\"drawing\" width=\"380\"/>\n",
        "\n",
        "Sexism is a growing problem online. It can inflict harm on women who are targeted, make online spaces inaccessible and unwelcoming, and perpetuate social asymmetries and injustices. Automated tools are now widely deployed to find, and assess sexist content at scale but most only give classifications for generic, high-level categories, with no further explanation. Flagging what is sexist content and also explaining why it is sexist improves interpretability, trust and understanding of the decisions that automated tools use, empowering both users and moderators.\n",
        "\n",
        "This project is based on SemEval 2023 - Task 10 - Explainable Detection of Online Sexism (EDOS). [Here](https://codalab.lisn.upsaclay.fr/competitions/7124#learn_the_details-overview) you can find a detailed introduction to this task.\n",
        "\n",
        "You only need to complete **TASK A - Binary Sexism Detection: a two-class (or binary) classification where systems have to predict whether a post is sexist or not sexist**. To cut down training time, we only use a subset of the original dataset (5k out of 20k). The dataset can be found in the same folder.\n",
        "\n",
        "Different from our previous homework, this competition gives you great flexibility (and very few hints), you can determine:\n",
        "-  how to preprocess the input text (e.g., remove emoji, remove stopwords, text lemmatization and stemming, etc.);\n",
        "-  which method to use to encode text features (e.g., TF-IDF, N-grams, Word2vec, GloVe, Part-of-Speech (POS), etc.);\n",
        "-  which model to use.\n",
        "\n",
        "## Requirements\n",
        "-  **Input**: the text for each instance.\n",
        "-  **Output**: the binary label for each instance.\n",
        "-  **Feature engineering**: use at least 2 different methods to extract features and encode text into numerical values.\n",
        "-  **Model selection**: implement with at least 3 different models and compare their performance.\n",
        "-  **Evaluation**: create a dataframe with rows indicating feature+model and columns indicating Precision, Accuracy and F1-score (using weighted average). Your results should have at least 6 rows (2 feature engineering methods x 3 models). Report best performance with (1) your feature engineering method, and (2) the model you choose.\n",
        "- **Format**: add explainations for each step (you can add markdown cells). At the end of the report, write a summary and answer the following questions:\n",
        "    - What preprocessing steps do you follow?\n",
        "    - How do you select the features from the inputs?\n",
        "    - Which model you use and what is the structure of your model?\n",
        "    - How do you train your model?\n",
        "    - What is the performance of your best model?\n",
        "    - What other models or feature engineering methods would you like to implement in the future?\n",
        "- **Two Rules**, violations will result in 0 points in the grade:\n",
        "    - Not allowed to use test set in the training: You CANNOT use any of the instances from test set in the training process.\n",
        "    - Not allowed to use code from generative AI (e.g., ChatGPT).\n",
        "\n",
        "## Evaluation\n",
        "\n",
        "The performance should be only evaluated on the test set (a total of 1086 instances). Please split original dataset into train set and test set. The test set should NEVER be used in the training process. The evaluation metric is a combination of precision, recall, and f1-score (use `classification_report` in sklearn).\n",
        "\n",
        "The total points are 10.0. Each team will compete with other teams in the class on their best performance. Points will be deducted if not following the requirements above.\n",
        "\n",
        "If ALL the requirements are met:\n",
        "- Top 25\\% teams: 10.0 points.\n",
        "- Top 25\\% - 50\\% teams: 8.5 points.\n",
        "- Top 50\\% - 75\\% teams: 7.0 points.\n",
        "- Top 75\\% - 100\\% teams: 6.0 points.\n",
        "\n",
        "## Submission\n",
        "Similar as homework, submit both a PDF and .ipynb version of the report.\n",
        "\n",
        "The report should include: (a)code, (b)outputs, (c)explainations for each step, and (d)summary (you can add markdown cells).\n",
        "\n",
        "The due date is **December 8, Friday by 11:59pm."
      ]
    },
    {
      "cell_type": "code",
      "execution_count": null,
      "id": "9b7caf28-1c77-4f87-8a62-7f3a7f79e1c6",
      "metadata": {
        "colab": {
          "base_uri": "https://localhost:8080/"
        },
        "id": "9b7caf28-1c77-4f87-8a62-7f3a7f79e1c6",
        "outputId": "06394e76-9ba4-455c-ca5a-13767898dcfd"
      },
      "outputs": [
        {
          "output_type": "stream",
          "name": "stderr",
          "text": [
            "[nltk_data] Downloading package punkt to /root/nltk_data...\n",
            "[nltk_data]   Package punkt is already up-to-date!\n",
            "[nltk_data] Downloading package stopwords to /root/nltk_data...\n",
            "[nltk_data]   Package stopwords is already up-to-date!\n",
            "[nltk_data] Downloading package wordnet to /root/nltk_data...\n",
            "[nltk_data]   Package wordnet is already up-to-date!\n"
          ]
        }
      ],
      "source": [
        "# insert your code\n",
        "import pandas as pd\n",
        "import sklearn as sk\n",
        "import warnings\n",
        "# Suppress warnings\n",
        "warnings.filterwarnings(\"ignore\")\n",
        "all_data = pd.read_csv(\"edos_labelled_data.csv\")\n",
        "filtered_data = pd.read_csv(\"edos_labelled_data.csv\")\n",
        "full_filtered_data = pd.read_csv(\"edos_labelled_data.csv\")\n",
        "all_data.head(5)\n",
        "\n",
        "#removing stop words\n",
        "import nltk\n",
        "from nltk.corpus import stopwords\n",
        "nltk.download('punkt')\n",
        "nltk.download(\"stopwords\")\n",
        "nltk.download('wordnet')\n",
        "engStopWords = stopwords.words(\"english\")\n",
        "stopwordz = stopwords.words(\"english\")\n",
        "engStopWords.remove(\"he\")\n",
        "engStopWords.remove(\"him\")\n",
        "engStopWords.remove(\"his\")\n",
        "\n",
        "engStopWords.remove(\"she\")\n",
        "engStopWords.remove(\"her\")\n",
        "engStopWords.remove(\"hers\")\n",
        "from nltk.tokenize import word_tokenize\n",
        "\n",
        "from nltk.stem import WordNetLemmatizer\n",
        "\n",
        "lemmatizer = WordNetLemmatizer()\n",
        "i = 0\n",
        "for sentence in all_data['text']:\n",
        "    word_tokens = word_tokenize(sentence)\n",
        "    filtered_sentence = [w for w in word_tokens if not w.lower() in engStopWords]\n",
        "    f2_sentence = [w for w in word_tokens if not w.lower() in stopwordz]\n",
        "    for j in range(len(filtered_sentence)):\n",
        "        filtered_sentence[j] = lemmatizer.lemmatize(filtered_sentence[j])\n",
        "    for k in range(len(f2_sentence)):\n",
        "        f2_sentence[k] = lemmatizer.lemmatize(f2_sentence[k])\n",
        "    filtered_data.iloc[i, 1] = \" \".join(filtered_sentence)\n",
        "    full_filtered_data.iloc[i, 1] = \" \".join(f2_sentence)\n",
        "    i += 1\n",
        "\n",
        "#print(filtered_data.head(10))\n",
        "\n",
        "from sklearn import preprocessing\n",
        "le = preprocessing.LabelEncoder()\n",
        "all_data['label'] = le.fit_transform(all_data['label'])\n",
        "filtered_data['label'] = le.fit_transform(all_data['label'])\n",
        "train_data = all_data[all_data['split'] == 'train']\n",
        "test_data = all_data[all_data['split'] == 'test']\n",
        "train_data_processed = filtered_data[filtered_data['split'] == 'train']\n",
        "test_data_processed = filtered_data[filtered_data['split'] == 'test']\n",
        "train_data_full = full_filtered_data[full_filtered_data['split'] == 'train']\n",
        "test_data_full = full_filtered_data[full_filtered_data['split'] == 'test']\n",
        "#print(train_data.head(5))\n",
        "#print(test_data.head(5))"
      ]
    },
    {
      "cell_type": "code",
      "execution_count": null,
      "id": "6d5d70e8",
      "metadata": {
        "id": "6d5d70e8"
      },
      "outputs": [],
      "source": [
        "# Evaluating an SVM classifier on all three version of the text"
      ]
    },
    {
      "cell_type": "code",
      "execution_count": null,
      "id": "2f92d8c9",
      "metadata": {
        "colab": {
          "base_uri": "https://localhost:8080/"
        },
        "id": "2f92d8c9",
        "outputId": "4a1bd2ff-f3ab-4879-9d4f-89bbb0669c7a"
      },
      "outputs": [
        {
          "output_type": "stream",
          "name": "stdout",
          "text": [
            "              precision    recall  f1-score   support\n",
            "\n",
            "           0       0.81      0.94      0.87       789\n",
            "           1       0.73      0.43      0.54       297\n",
            "\n",
            "    accuracy                           0.80      1086\n",
            "   macro avg       0.77      0.69      0.71      1086\n",
            "weighted avg       0.79      0.80      0.78      1086\n",
            "\n"
          ]
        }
      ],
      "source": [
        "from sklearn.linear_model import SGDClassifier\n",
        "from sklearn.feature_extraction.text import CountVectorizer\n",
        "from sklearn.pipeline import Pipeline\n",
        "from sklearn.feature_extraction.text import TfidfTransformer\n",
        "text_clf = Pipeline([('vect', CountVectorizer()),('tfidf', TfidfTransformer()),\n",
        "        ('clf', SGDClassifier(loss='hinge', penalty='l2',alpha=0.0002369, random_state=123,max_iter=100, tol=None)),])\n",
        "text_clf.fit(train_data_processed['text'], train_data_processed['label'])\n",
        "predicted = text_clf.predict(test_data_processed['text'])\n",
        "from sklearn import metrics\n",
        "print(metrics.classification_report(test_data_processed['label'], predicted))"
      ]
    },
    {
      "cell_type": "code",
      "execution_count": null,
      "id": "81ebbb4e",
      "metadata": {
        "colab": {
          "base_uri": "https://localhost:8080/"
        },
        "id": "81ebbb4e",
        "outputId": "a77eae71-b013-4828-d03d-357b6529fdef"
      },
      "outputs": [
        {
          "output_type": "stream",
          "name": "stdout",
          "text": [
            "              precision    recall  f1-score   support\n",
            "\n",
            "           0       0.82      0.95      0.88       789\n",
            "           1       0.77      0.45      0.57       297\n",
            "\n",
            "    accuracy                           0.81      1086\n",
            "   macro avg       0.80      0.70      0.72      1086\n",
            "weighted avg       0.81      0.81      0.80      1086\n",
            "\n"
          ]
        }
      ],
      "source": [
        "from sklearn.linear_model import SGDClassifier\n",
        "from sklearn.feature_extraction.text import CountVectorizer\n",
        "from sklearn.pipeline import Pipeline\n",
        "from sklearn.feature_extraction.text import TfidfTransformer\n",
        "text_clf = Pipeline([('vect', CountVectorizer()),('tfidf', TfidfTransformer()),\n",
        "        ('clf', SGDClassifier(loss='hinge', penalty='l2',alpha=0.0002369, random_state=123,max_iter=1000, tol=None)),])\n",
        "text_clf.fit(train_data['text'], train_data['label'])\n",
        "predicted = text_clf.predict(test_data['text'])\n",
        "from sklearn import metrics\n",
        "print(metrics.classification_report(test_data['label'], predicted))"
      ]
    },
    {
      "cell_type": "code",
      "execution_count": null,
      "id": "972b3230",
      "metadata": {
        "colab": {
          "base_uri": "https://localhost:8080/"
        },
        "id": "972b3230",
        "outputId": "c6df80b8-8640-4ef4-c4d5-5c632f495553"
      },
      "outputs": [
        {
          "output_type": "stream",
          "name": "stdout",
          "text": [
            "              precision    recall  f1-score   support\n",
            "\n",
            "  not sexist       0.82      0.94      0.87       789\n",
            "      sexist       0.74      0.43      0.55       297\n",
            "\n",
            "    accuracy                           0.80      1086\n",
            "   macro avg       0.78      0.69      0.71      1086\n",
            "weighted avg       0.80      0.80      0.78      1086\n",
            "\n"
          ]
        }
      ],
      "source": [
        "from sklearn.linear_model import SGDClassifier\n",
        "from sklearn.feature_extraction.text import CountVectorizer\n",
        "from sklearn.pipeline import Pipeline\n",
        "from sklearn.feature_extraction.text import TfidfTransformer\n",
        "text_clf = Pipeline([('vect', CountVectorizer()),('tfidf', TfidfTransformer()),\n",
        "        ('clf', SGDClassifier(loss='hinge', penalty='l2',alpha=0.0002369, random_state=123,max_iter=100, tol=None)),])\n",
        "text_clf.fit(train_data_full['text'], train_data_full['label'])\n",
        "predicted = text_clf.predict(test_data_full['text'])\n",
        "from sklearn import metrics\n",
        "print(metrics.classification_report(test_data_full['label'], predicted))"
      ]
    },
    {
      "cell_type": "code",
      "execution_count": null,
      "id": "be8ed350",
      "metadata": {
        "id": "be8ed350"
      },
      "outputs": [],
      "source": [
        "# training tfidf on unprocessed version of the text"
      ]
    },
    {
      "cell_type": "code",
      "execution_count": null,
      "id": "73f9d710",
      "metadata": {
        "id": "73f9d710"
      },
      "outputs": [],
      "source": [
        "from sklearn.feature_extraction.text import TfidfVectorizer\n",
        "\n",
        "tfidf_vectorizer = TfidfVectorizer(max_features=1000)\n",
        "\n",
        "X_train_tfidf = tfidf_vectorizer.fit_transform(train_data[\"text\"])\n",
        "#print(X_train_tfidf)\n",
        "#print()\n",
        "X_test_tfidf = tfidf_vectorizer.fit_transform(test_data[\"text\"])\n",
        "#print(X_test_tfidf)\n"
      ]
    },
    {
      "cell_type": "code",
      "execution_count": null,
      "id": "1d966359",
      "metadata": {
        "id": "1d966359"
      },
      "outputs": [],
      "source": [
        "# using tfidf to create a KNN classifier"
      ]
    },
    {
      "cell_type": "code",
      "execution_count": null,
      "id": "f4679ac6",
      "metadata": {
        "id": "f4679ac6"
      },
      "outputs": [],
      "source": [
        "# using tfidf to create a logistic regression classifier"
      ]
    },
    {
      "cell_type": "code",
      "execution_count": null,
      "id": "5bee36de",
      "metadata": {
        "colab": {
          "base_uri": "https://localhost:8080/"
        },
        "id": "5bee36de",
        "outputId": "a63860df-2939-4b07-d48d-f6f6273893f5"
      },
      "outputs": [
        {
          "output_type": "stream",
          "name": "stdout",
          "text": [
            "0.7173112338858195\n",
            "Classification Report:\n",
            "               precision    recall  f1-score   support\n",
            "\n",
            "           0       0.73      0.97      0.83       789\n",
            "           1       0.36      0.04      0.08       297\n",
            "\n",
            "    accuracy                           0.72      1086\n",
            "   macro avg       0.55      0.51      0.46      1086\n",
            "weighted avg       0.63      0.72      0.63      1086\n",
            "\n"
          ]
        }
      ],
      "source": [
        "from sklearn.linear_model import LogisticRegression as LR\n",
        "from sklearn.metrics import accuracy_score, classification_report\n",
        "\n",
        "classifier = LR()\n",
        "#print(train_data)\n",
        "classifier.fit(X_train_tfidf, train_data['label'])\n",
        "\n",
        "\n",
        "\n",
        "\n",
        "predicted = classifier.predict(X_test_tfidf)\n",
        "accuracy = accuracy_score(test_data['label'], predicted)\n",
        "print(accuracy)\n",
        "\n",
        "report = classification_report(test_data['label'], predicted)\n",
        "print(\"Classification Report:\\n\", report)"
      ]
    },
    {
      "cell_type": "code",
      "execution_count": null,
      "id": "ef651b81",
      "metadata": {
        "id": "ef651b81"
      },
      "outputs": [],
      "source": [
        "# using tfidf to create a naive bayes classifier"
      ]
    },
    {
      "cell_type": "code",
      "execution_count": null,
      "id": "a0765628",
      "metadata": {
        "colab": {
          "base_uri": "https://localhost:8080/"
        },
        "id": "a0765628",
        "outputId": "d182722e-0554-4fba-d5b9-e6df96acaf9a"
      },
      "outputs": [
        {
          "output_type": "stream",
          "name": "stdout",
          "text": [
            "0.7311233885819521\n",
            "Classification Report:\n",
            "               precision    recall  f1-score   support\n",
            "\n",
            "           0       0.73      1.00      0.84       789\n",
            "           1       0.86      0.02      0.04       297\n",
            "\n",
            "    accuracy                           0.73      1086\n",
            "   macro avg       0.79      0.51      0.44      1086\n",
            "weighted avg       0.76      0.73      0.62      1086\n",
            "\n"
          ]
        }
      ],
      "source": [
        "from sklearn.naive_bayes import MultinomialNB\n",
        "from sklearn.pipeline import make_pipeline\n",
        "\n",
        "model = make_pipeline(TfidfVectorizer(), MultinomialNB())\n",
        "model.fit(train_data['text'], train_data['label'])\n",
        "predicted2=model.predict(test_data['text'])\n",
        "\n",
        "accuracy2 = accuracy_score(test_data['label'], predicted2)\n",
        "print(accuracy2)\n",
        "\n",
        "report2 = classification_report(test_data['label'], predicted2)\n",
        "print(\"Classification Report:\\n\", report2)\n"
      ]
    },
    {
      "cell_type": "code",
      "execution_count": null,
      "id": "50f2ecfd",
      "metadata": {
        "id": "50f2ecfd"
      },
      "outputs": [],
      "source": [
        "# creating a logistic regression model with tfidf again, but this time using processed text data"
      ]
    },
    {
      "cell_type": "code",
      "execution_count": null,
      "id": "816add8e",
      "metadata": {
        "colab": {
          "base_uri": "https://localhost:8080/"
        },
        "id": "816add8e",
        "outputId": "3e9af566-5918-4448-e68f-e9dfd069ba49"
      },
      "outputs": [
        {
          "output_type": "stream",
          "name": "stdout",
          "text": [
            "0.7918968692449355\n",
            "Classification Report:\n",
            "               precision    recall  f1-score   support\n",
            "\n",
            "           0       0.80      0.96      0.87       789\n",
            "           1       0.76      0.35      0.48       297\n",
            "\n",
            "    accuracy                           0.79      1086\n",
            "   macro avg       0.78      0.65      0.67      1086\n",
            "weighted avg       0.79      0.79      0.76      1086\n",
            "\n"
          ]
        }
      ],
      "source": [
        "from sklearn.feature_extraction.text import TfidfVectorizer\n",
        "\n",
        "tfidf_vectorizer = TfidfVectorizer(max_features=1000)\n",
        "\n",
        "X_train_tfidf = tfidf_vectorizer.fit_transform(train_data_processed[\"text\"])\n",
        "#print(X_train_tfidf)\n",
        "#print()\n",
        "X_test_tfidf = tfidf_vectorizer.transform(test_data_processed[\"text\"])\n",
        "#print(X_test_tfidf)\n",
        "\n",
        "from sklearn.linear_model import LogisticRegression as LR\n",
        "from sklearn.metrics import accuracy_score, classification_report\n",
        "\n",
        "classifier = LR()\n",
        "#print(train_data)\n",
        "classifier.fit(X_train_tfidf, train_data_processed['label'])\n",
        "\n",
        "\n",
        "\n",
        "\n",
        "predicted = classifier.predict(X_test_tfidf)\n",
        "accuracy = accuracy_score(test_data_processed['label'], predicted)\n",
        "print(accuracy)\n",
        "\n",
        "report = classification_report(test_data_processed['label'], predicted)\n",
        "print(\"Classification Report:\\n\", report)"
      ]
    },
    {
      "cell_type": "code",
      "execution_count": null,
      "id": "29d5fd47",
      "metadata": {
        "id": "29d5fd47"
      },
      "outputs": [],
      "source": [
        "# creating naive bayes using tfidf and processed text data"
      ]
    },
    {
      "cell_type": "code",
      "execution_count": null,
      "id": "41dbed68",
      "metadata": {
        "colab": {
          "base_uri": "https://localhost:8080/"
        },
        "id": "41dbed68",
        "outputId": "965bee8b-da73-497c-ebe8-a2eec9a22747"
      },
      "outputs": [
        {
          "output_type": "stream",
          "name": "stdout",
          "text": [
            "0.7412523020257827\n",
            "Classification Report:\n",
            "               precision    recall  f1-score   support\n",
            "\n",
            "           0       0.74      1.00      0.85       789\n",
            "           1       0.94      0.06      0.11       297\n",
            "\n",
            "    accuracy                           0.74      1086\n",
            "   macro avg       0.84      0.53      0.48      1086\n",
            "weighted avg       0.79      0.74      0.65      1086\n",
            "\n"
          ]
        }
      ],
      "source": [
        "from sklearn.naive_bayes import MultinomialNB\n",
        "from sklearn.pipeline import make_pipeline\n",
        "\n",
        "model = make_pipeline(TfidfVectorizer(), MultinomialNB())\n",
        "model.fit(train_data_processed['text'], train_data_processed['label'])\n",
        "predicted2=model.predict(test_data_processed['text'])\n",
        "\n",
        "accuracy2 = accuracy_score(test_data_processed['label'], predicted2)\n",
        "print(accuracy2)\n",
        "\n",
        "report2 = classification_report(test_data_processed['label'], predicted2)\n",
        "print(\"Classification Report:\\n\", report2)"
      ]
    },
    {
      "cell_type": "code",
      "execution_count": null,
      "id": "f8683518",
      "metadata": {
        "id": "f8683518"
      },
      "outputs": [],
      "source": [
        "# creating KNN using tfidf and processed text data"
      ]
    },
    {
      "cell_type": "code",
      "execution_count": null,
      "id": "444d2f67",
      "metadata": {
        "colab": {
          "base_uri": "https://localhost:8080/",
          "height": 518
        },
        "id": "444d2f67",
        "outputId": "0c9902bb-21dd-4c58-bf41-bcd73d925a0f"
      },
      "outputs": [
        {
          "output_type": "stream",
          "name": "stdout",
          "text": [
            "mean of CV scores across 10 folds :  0.697350267075804\n",
            "standard deviation of CV scores across 10 folds :  0.007363254233043506\n",
            "max accuracy is :  0.7011688828275939\n",
            "this occurs when K is :  7\n"
          ]
        },
        {
          "output_type": "display_data",
          "data": {
            "text/plain": [
              "<Figure size 640x480 with 1 Axes>"
            ],
            "image/png": "[encoded data removed]"
          },
          "metadata": {}
        }
      ],
      "source": [
        "tfidf_vectorizer = TfidfVectorizer(max_features=1000)\n",
        "\n",
        "X_train_tfidf = tfidf_vectorizer.fit_transform(train_data_processed[\"text\"])\n",
        "#print(X_train_tfidf)\n",
        "#print()\n",
        "X_test_tfidf = tfidf_vectorizer.transform(test_data_processed[\"text\"])\n",
        "#print(X_test_tfidf)\n",
        "\n",
        "from sklearn.preprocessing import StandardScaler\n",
        "scaler = StandardScaler(with_mean=False)\n",
        "scaler.fit(X_train_tfidf)\n",
        "scaled_data = scaler.fit_transform(X_train_tfidf)\n",
        "X_train = scaled_data\n",
        "Y_train = train_data['label']\n",
        "from sklearn.neighbors import KNeighborsClassifier\n",
        "neigh = KNeighborsClassifier(n_neighbors=2)\n",
        "KNeighClassifier = neigh.fit(scaled_data, train_data['label'])\n",
        "from sklearn.model_selection import cross_val_score\n",
        "CV_score = cross_val_score(KNeighClassifier, scaled_data, train_data['label'], cv=10)\n",
        "print(\"mean of CV scores across 10 folds : \", CV_score.mean())\n",
        "print(\"standard deviation of CV scores across 10 folds : \", CV_score.std())\\\n",
        "\n",
        "k_val = []\n",
        "CV_eval_score = []\n",
        "for i in range(15):\n",
        "    # use i + 1 to go 1-15 instead of 0-14\n",
        "    neigh = KNeighborsClassifier(n_neighbors=i + 1)\n",
        "    KNeighClassifier = neigh.fit(X_train, Y_train)\n",
        "    k_val.append(i + 1)\n",
        "    CV_eval_score.append(cross_val_score(KNeighClassifier, X_train, Y_train, cv=10).mean())\n",
        "import matplotlib.pyplot as plt\n",
        "plt.scatter(k_val, CV_eval_score)\n",
        "plt.xlabel(\"k value\")\n",
        "plt.ylabel(\"mean accuracy with cv=10\")\n",
        "print(\"max accuracy is : \", max(CV_eval_score))\n",
        "print(\"this occurs when K is : \", CV_eval_score.index(max(CV_eval_score), 5) + 1)"
      ]
    },
    {
      "cell_type": "code",
      "execution_count": null,
      "id": "c9ce4419",
      "metadata": {
        "id": "c9ce4419"
      },
      "outputs": [],
      "source": [
        "# tfidf + SVM - Done\n",
        "# tfidf + KNN - Done\n",
        "# tfidf + LR - Done\n",
        "# # # # # # # # # # #\n",
        "# bag of words (count vectorizer) + SVM - ToDo\n",
        "# bag of words (count vectorizer) + KNN - ToDo\n",
        "# bag of words (count vectorizer) + LR - ToDo"
      ]
    },
    {
      "cell_type": "code",
      "execution_count": null,
      "id": "69aa0f1d",
      "metadata": {
        "colab": {
          "base_uri": "https://localhost:8080/"
        },
        "id": "69aa0f1d",
        "outputId": "f9494898-df3e-4cdd-d013-9de8b191d6ae"
      },
      "outputs": [
        {
          "output_type": "stream",
          "name": "stdout",
          "text": [
            "4193\n"
          ]
        }
      ],
      "source": [
        "# bag of words (count vectorizer) + SVM\n",
        "from sklearn.feature_extraction.text import CountVectorizer\n",
        "vectorizer = CountVectorizer()\n",
        "bag_of_words_df = pd.read_csv(\"edos_labelled_data.csv\")\n",
        "X = vectorizer.fit_transform(train_data['text'])\n",
        "\n",
        "X = X.toarray()\n",
        "\n",
        "print(len(X))"
      ]
    },
    {
      "cell_type": "code",
      "execution_count": null,
      "id": "eac92acb",
      "metadata": {
        "colab": {
          "base_uri": "https://localhost:8080/"
        },
        "id": "eac92acb",
        "outputId": "39159e74-1b4c-43e5-c30c-c3f0e78bf29c"
      },
      "outputs": [
        {
          "output_type": "stream",
          "name": "stdout",
          "text": [
            "              precision    recall  f1-score   support\n",
            "\n",
            "           0       0.85      0.84      0.85       789\n",
            "           1       0.59      0.59      0.59       297\n",
            "\n",
            "    accuracy                           0.78      1086\n",
            "   macro avg       0.72      0.72      0.72      1086\n",
            "weighted avg       0.78      0.78      0.78      1086\n",
            "\n"
          ]
        }
      ],
      "source": [
        "from sklearn.linear_model import SGDClassifier\n",
        "from sklearn.feature_extraction.text import CountVectorizer\n",
        "from sklearn.pipeline import Pipeline\n",
        "from sklearn.feature_extraction.text import TfidfTransformer\n",
        "text_clf = Pipeline([('vect', CountVectorizer()),\n",
        "        ('clf', SGDClassifier(loss='hinge', penalty='l2',alpha=0.0002369, random_state=123,max_iter=1000, tol=None)),])\n",
        "text_clf.fit(train_data['text'], train_data['label'])\n",
        "predicted = text_clf.predict(test_data['text'])\n",
        "from sklearn import metrics\n",
        "print(metrics.classification_report(test_data['label'], predicted))"
      ]
    },
    {
      "cell_type": "code",
      "execution_count": null,
      "id": "31a1d691",
      "metadata": {
        "colab": {
          "base_uri": "https://localhost:8080/"
        },
        "id": "31a1d691",
        "outputId": "f1b1a1bf-9a61-4325-c13f-f6631489cb7c"
      },
      "outputs": [
        {
          "output_type": "stream",
          "name": "stdout",
          "text": [
            "0.8121546961325967\n",
            "Classification Report:\n",
            "               precision    recall  f1-score   support\n",
            "\n",
            "           0       0.84      0.92      0.88       789\n",
            "           1       0.71      0.53      0.61       297\n",
            "\n",
            "    accuracy                           0.81      1086\n",
            "   macro avg       0.77      0.72      0.74      1086\n",
            "weighted avg       0.80      0.81      0.80      1086\n",
            "\n"
          ]
        }
      ],
      "source": [
        "# bag of words (count vectorizer) + LR\n",
        "from sklearn.linear_model import LogisticRegression as LR\n",
        "from sklearn.metrics import accuracy_score, classification_report\n",
        "\n",
        "classifier = LR()\n",
        "#print(train_data)\n",
        "classifier.fit(X, train_data['label'])\n",
        "\n",
        "\n",
        "Y = vectorizer.transform(test_data['text'])\n",
        "Y = Y.toarray()\n",
        "predicted = classifier.predict(Y)\n",
        "accuracy = accuracy_score(test_data['label'], predicted)\n",
        "print(accuracy)\n",
        "\n",
        "report = classification_report(test_data['label'], predicted)\n",
        "print(\"Classification Report:\\n\", report)"
      ]
    },
    {
      "cell_type": "code",
      "execution_count": null,
      "id": "e61a702e",
      "metadata": {
        "colab": {
          "base_uri": "https://localhost:8080/"
        },
        "id": "e61a702e",
        "outputId": "264492eb-5b1c-45ff-a421-2d600de61975"
      },
      "outputs": [
        {
          "output_type": "stream",
          "name": "stdout",
          "text": [
            "0.7826887661141805\n",
            "Classification Report:\n",
            "               precision    recall  f1-score   support\n",
            "\n",
            "           0       0.80      0.93      0.86       789\n",
            "           1       0.68      0.38      0.49       297\n",
            "\n",
            "    accuracy                           0.78      1086\n",
            "   macro avg       0.74      0.66      0.68      1086\n",
            "weighted avg       0.77      0.78      0.76      1086\n",
            "\n"
          ]
        }
      ],
      "source": [
        "# bag of words (count vectorizer) + naive bayes\n",
        "from sklearn.naive_bayes import MultinomialNB\n",
        "from sklearn.pipeline import make_pipeline\n",
        "\n",
        "model = make_pipeline(vectorizer, MultinomialNB())\n",
        "model.fit(train_data['text'], train_data['label'])\n",
        "predicted2=model.predict(test_data['text'])\n",
        "\n",
        "accuracy2 = accuracy_score(test_data['label'], predicted2)\n",
        "print(accuracy2)\n",
        "\n",
        "report2 = classification_report(test_data['label'], predicted2)\n",
        "print(\"Classification Report:\\n\", report2)"
      ]
    },
    {
      "cell_type": "code",
      "execution_count": null,
      "id": "ffa94d84",
      "metadata": {
        "id": "ffa94d84"
      },
      "outputs": [],
      "source": [
        "# bag of words (count vectorizer) +"
      ]
    },
    {
      "cell_type": "code",
      "execution_count": null,
      "id": "e82e5d4a",
      "metadata": {
        "id": "e82e5d4a"
      },
      "outputs": [],
      "source": [
        "# failed One-Hot encoding"
      ]
    },
    {
      "cell_type": "code",
      "execution_count": null,
      "id": "23e973a6",
      "metadata": {
        "id": "23e973a6"
      },
      "outputs": [],
      "source": [
        "\n",
        "\n",
        "#from sklearn.feature_extraction.text import CountVectorizer\n",
        "#from sklearn.preprocessing import Binarizer\n",
        "\n",
        "#onehot = Binarizer()\n",
        "#freq = CountVectorizer()\n",
        "\n",
        "#corpus = freq.fit_transform(train_data_processed['text'])\n",
        "#changed = onehot.fit_transform(corpus)\n",
        "\n",
        "#predicted3=model.predict(test_data_processed['text'])\n",
        "\n",
        "#accuracy3 = accuracy_score(test_data_processed['label'], predicted2)\n",
        "#print(accuracy2)\n",
        "\n",
        "#report3 = classification_report(test_data_processed['label'], predicted2)\n",
        "#print(\"Classification Report:\\n\", report2)"
      ]
    },
    {
      "cell_type": "markdown",
      "id": "7827b394-47a9-4ccc-8ee3-9a9059064cff",
      "metadata": {
        "id": "7827b394-47a9-4ccc-8ee3-9a9059064cff"
      },
      "source": [
        "## Summary\n",
        "\n",
        "1. What preprocessing steps do you follow?\n",
        "   \n",
        "   Your answer: We mainly used stopwords to preprocess the text data, but after some testing we found that by not preprocessing the data, you could achieve higher weighted F1 accuracies.\n",
        "   \n",
        "2. How do you select the features from the inputs?\n",
        "   \n",
        "   Your answer: We used TFIDF and Bag of Words. We decided to use these after much research into the different methods of feature extraction. One feature that we had originally tried using but was found to not work was One-Hot encoding.\n",
        "   \n",
        "3. Which model you use and what is the structure of your model?\n",
        "   \n",
        "   Your answer: The models we used were Logistic Regression, Naive Bayes, and Support Vector Machines. The Logistic Regression model encodes text based off the classifier given to the sexist and not sexist labels. The Naive Bayes model encodes text by using a maximum likelyhood estimation and placing each word in categories. The Support Vector Machine encodes the text by finding a hyperplane to distribute the text values\n",
        "   \n",
        "4. How do you train your model?\n",
        "   \n",
        "   Your answer: We first encoded the text via our methods of feature extraction so that it was converted to numbers to be used by our models. Then we ran the encoded text through our three models to train them.\n",
        "   \n",
        "5. What is the performance of your best model?\n",
        "   \n",
        "   Your answer: The performance of the best models resulted in a wieghted F1 average of 0.8 which was found by using both TFIDF + SVM or Bag of Words + Logistic Regression.\n",
        "   \n",
        "6. What other models or feature engineering methods would you like to implement in the future?\n",
        "   \n",
        "   Your answer: In the future, we would like to research and develop a form of text preprocessing that results in higher F1-scores, since what we had attempted to do for preprocessing was not successful.\n",
        "\n",
        "\n",
        "\n",
        "\n",
        "![image.png](data:image/png;base64,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)\n",
        "   "
      ]
    }
  ],
  "metadata": {
    "kernelspec": {
      "display_name": "Python 3 (ipykernel)",
      "language": "python",
      "name": "python3"
    },
    "language_info": {
      "codemirror_mode": {
        "name": "ipython",
        "version": 3
      },
      "file_extension": ".py",
      "mimetype": "text/x-python",
      "name": "python",
      "nbconvert_exporter": "python",
      "pygments_lexer": "ipython3",
      "version": "3.11.4"
    },
    "colab": {
      "provenance": []
    }
  },
  "nbformat": 4,
  "nbformat_minor": 5
}